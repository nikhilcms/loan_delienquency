{
  "nbformat": 4,
  "nbformat_minor": 0,
  "metadata": {
    "colab": {
      "name": "loan_delinquency.ipynb",
      "version": "0.3.2",
      "provenance": [],
      "collapsed_sections": [],
      "toc_visible": true
    },
    "kernelspec": {
      "name": "python3",
      "display_name": "Python 3"
    },
    "accelerator": "GPU"
  },
  "cells": [
    {
      "cell_type": "code",
      "metadata": {
        "id": "-kYTs54MFfpW",
        "colab_type": "code",
        "outputId": "db701b6e-b7be-4ff2-c2de-af9a81e862d0",
        "colab": {
          "base_uri": "https://localhost:8080/",
          "height": 52
        }
      },
      "source": [
        "!pip install -U -q PyDrive\n",
        "from pydrive.auth import GoogleAuth\n",
        "from pydrive.drive import GoogleDrive\n",
        "from google.colab import auth\n",
        "from oauth2client.client import GoogleCredentials\n",
        "auth.authenticate_user()\n",
        "gauth = GoogleAuth()\n",
        "gauth.credentials = GoogleCredentials.get_application_default()\n",
        "drive = GoogleDrive(gauth)\n",
        "\n",
        "drive = GoogleDrive(gauth)\n",
        "downloaded = drive.CreateFile({'id':'11WkAXEmySOKSNLQiEWPtZLcheVHI3eQW'})\n",
        "downloaded.GetContentFile('training_data.csv') \n",
        "downloaded2 = drive.CreateFile({'id':'1IiWmd_v6HyvJJiZfX5vHsHaEHE9MN1hl'})\n",
        "downloaded2.GetContentFile('test_data.csv')"
      ],
      "execution_count": 0,
      "outputs": [
        {
          "output_type": "stream",
          "text": [
            "\u001b[?25l\r\u001b[K     |▎                               | 10kB 21.3MB/s eta 0:00:01\r\u001b[K     |▋                               | 20kB 26.5MB/s eta 0:00:01\r\u001b[K     |█                               | 30kB 31.7MB/s eta 0:00:01\r\u001b[K     |█▎                              | 40kB 35.7MB/s eta 0:00:01\r\u001b[K     |█▋                              | 51kB 39.3MB/s eta 0:00:01\r\u001b[K     |██                              | 61kB 44.2MB/s eta 0:00:01\r\u001b[K     |██▎                             | 71kB 39.9MB/s eta 0:00:01\r\u001b[K     |██▋                             | 81kB 40.7MB/s eta 0:00:01\r\u001b[K     |███                             | 92kB 43.5MB/s eta 0:00:01\r\u001b[K     |███▎                            | 102kB 38.4MB/s eta 0:00:01\r\u001b[K     |███▋                            | 112kB 38.4MB/s eta 0:00:01\r\u001b[K     |████                            | 122kB 38.4MB/s eta 0:00:01\r\u001b[K     |████▎                           | 133kB 38.4MB/s eta 0:00:01\r\u001b[K     |████▋                           | 143kB 38.4MB/s eta 0:00:01\r\u001b[K     |█████                           | 153kB 38.4MB/s eta 0:00:01\r\u001b[K     |█████▎                          | 163kB 38.4MB/s eta 0:00:01\r\u001b[K     |█████▋                          | 174kB 38.4MB/s eta 0:00:01\r\u001b[K     |██████                          | 184kB 38.4MB/s eta 0:00:01\r\u001b[K     |██████▎                         | 194kB 38.4MB/s eta 0:00:01\r\u001b[K     |██████▋                         | 204kB 38.4MB/s eta 0:00:01\r\u001b[K     |███████                         | 215kB 38.4MB/s eta 0:00:01\r\u001b[K     |███████▎                        | 225kB 38.4MB/s eta 0:00:01\r\u001b[K     |███████▋                        | 235kB 38.4MB/s eta 0:00:01\r\u001b[K     |████████                        | 245kB 38.4MB/s eta 0:00:01\r\u001b[K     |████████▎                       | 256kB 38.4MB/s eta 0:00:01\r\u001b[K     |████████▋                       | 266kB 38.4MB/s eta 0:00:01\r\u001b[K     |█████████                       | 276kB 38.4MB/s eta 0:00:01\r\u001b[K     |█████████▎                      | 286kB 38.4MB/s eta 0:00:01\r\u001b[K     |█████████▋                      | 296kB 38.4MB/s eta 0:00:01\r\u001b[K     |██████████                      | 307kB 38.4MB/s eta 0:00:01\r\u001b[K     |██████████▎                     | 317kB 38.4MB/s eta 0:00:01\r\u001b[K     |██████████▋                     | 327kB 38.4MB/s eta 0:00:01\r\u001b[K     |███████████                     | 337kB 38.4MB/s eta 0:00:01\r\u001b[K     |███████████▎                    | 348kB 38.4MB/s eta 0:00:01\r\u001b[K     |███████████▋                    | 358kB 38.4MB/s eta 0:00:01\r\u001b[K     |████████████                    | 368kB 38.4MB/s eta 0:00:01\r\u001b[K     |████████████▎                   | 378kB 38.4MB/s eta 0:00:01\r\u001b[K     |████████████▋                   | 389kB 38.4MB/s eta 0:00:01\r\u001b[K     |█████████████                   | 399kB 38.4MB/s eta 0:00:01\r\u001b[K     |█████████████▎                  | 409kB 38.4MB/s eta 0:00:01\r\u001b[K     |█████████████▋                  | 419kB 38.4MB/s eta 0:00:01\r\u001b[K     |██████████████                  | 430kB 38.4MB/s eta 0:00:01\r\u001b[K     |██████████████▎                 | 440kB 38.4MB/s eta 0:00:01\r\u001b[K     |██████████████▋                 | 450kB 38.4MB/s eta 0:00:01\r\u001b[K     |███████████████                 | 460kB 38.4MB/s eta 0:00:01\r\u001b[K     |███████████████▎                | 471kB 38.4MB/s eta 0:00:01\r\u001b[K     |███████████████▋                | 481kB 38.4MB/s eta 0:00:01\r\u001b[K     |████████████████                | 491kB 38.4MB/s eta 0:00:01\r\u001b[K     |████████████████▎               | 501kB 38.4MB/s eta 0:00:01\r\u001b[K     |████████████████▋               | 512kB 38.4MB/s eta 0:00:01\r\u001b[K     |█████████████████               | 522kB 38.4MB/s eta 0:00:01\r\u001b[K     |█████████████████▎              | 532kB 38.4MB/s eta 0:00:01\r\u001b[K     |█████████████████▋              | 542kB 38.4MB/s eta 0:00:01\r\u001b[K     |██████████████████              | 552kB 38.4MB/s eta 0:00:01\r\u001b[K     |██████████████████▎             | 563kB 38.4MB/s eta 0:00:01\r\u001b[K     |██████████████████▋             | 573kB 38.4MB/s eta 0:00:01\r\u001b[K     |███████████████████             | 583kB 38.4MB/s eta 0:00:01\r\u001b[K     |███████████████████▎            | 593kB 38.4MB/s eta 0:00:01\r\u001b[K     |███████████████████▋            | 604kB 38.4MB/s eta 0:00:01\r\u001b[K     |████████████████████            | 614kB 38.4MB/s eta 0:00:01\r\u001b[K     |████████████████████▎           | 624kB 38.4MB/s eta 0:00:01\r\u001b[K     |████████████████████▋           | 634kB 38.4MB/s eta 0:00:01\r\u001b[K     |█████████████████████           | 645kB 38.4MB/s eta 0:00:01\r\u001b[K     |█████████████████████▎          | 655kB 38.4MB/s eta 0:00:01\r\u001b[K     |█████████████████████▋          | 665kB 38.4MB/s eta 0:00:01\r\u001b[K     |██████████████████████          | 675kB 38.4MB/s eta 0:00:01\r\u001b[K     |██████████████████████▎         | 686kB 38.4MB/s eta 0:00:01\r\u001b[K     |██████████████████████▋         | 696kB 38.4MB/s eta 0:00:01\r\u001b[K     |███████████████████████         | 706kB 38.4MB/s eta 0:00:01\r\u001b[K     |███████████████████████▎        | 716kB 38.4MB/s eta 0:00:01\r\u001b[K     |███████████████████████▋        | 727kB 38.4MB/s eta 0:00:01\r\u001b[K     |████████████████████████        | 737kB 38.4MB/s eta 0:00:01\r\u001b[K     |████████████████████████▎       | 747kB 38.4MB/s eta 0:00:01\r\u001b[K     |████████████████████████▋       | 757kB 38.4MB/s eta 0:00:01\r\u001b[K     |████████████████████████▉       | 768kB 38.4MB/s eta 0:00:01\r\u001b[K     |█████████████████████████▏      | 778kB 38.4MB/s eta 0:00:01\r\u001b[K     |█████████████████████████▌      | 788kB 38.4MB/s eta 0:00:01\r\u001b[K     |█████████████████████████▉      | 798kB 38.4MB/s eta 0:00:01\r\u001b[K     |██████████████████████████▏     | 808kB 38.4MB/s eta 0:00:01\r\u001b[K     |██████████████████████████▌     | 819kB 38.4MB/s eta 0:00:01\r\u001b[K     |██████████████████████████▉     | 829kB 38.4MB/s eta 0:00:01\r\u001b[K     |███████████████████████████▏    | 839kB 38.4MB/s eta 0:00:01\r\u001b[K     |███████████████████████████▌    | 849kB 38.4MB/s eta 0:00:01\r\u001b[K     |███████████████████████████▉    | 860kB 38.4MB/s eta 0:00:01\r\u001b[K     |████████████████████████████▏   | 870kB 38.4MB/s eta 0:00:01\r\u001b[K     |████████████████████████████▌   | 880kB 38.4MB/s eta 0:00:01\r\u001b[K     |████████████████████████████▉   | 890kB 38.4MB/s eta 0:00:01\r\u001b[K     |█████████████████████████████▏  | 901kB 38.4MB/s eta 0:00:01\r\u001b[K     |█████████████████████████████▌  | 911kB 38.4MB/s eta 0:00:01\r\u001b[K     |█████████████████████████████▉  | 921kB 38.4MB/s eta 0:00:01\r\u001b[K     |██████████████████████████████▏ | 931kB 38.4MB/s eta 0:00:01\r\u001b[K     |██████████████████████████████▌ | 942kB 38.4MB/s eta 0:00:01\r\u001b[K     |██████████████████████████████▉ | 952kB 38.4MB/s eta 0:00:01\r\u001b[K     |███████████████████████████████▏| 962kB 38.4MB/s eta 0:00:01\r\u001b[K     |███████████████████████████████▌| 972kB 38.4MB/s eta 0:00:01\r\u001b[K     |███████████████████████████████▉| 983kB 38.4MB/s eta 0:00:01\r\u001b[K     |████████████████████████████████| 993kB 38.4MB/s \n",
            "\u001b[?25h  Building wheel for PyDrive (setup.py) ... \u001b[?25l\u001b[?25hdone\n"
          ],
          "name": "stdout"
        }
      ]
    },
    {
      "cell_type": "code",
      "metadata": {
        "id": "OLc-Ddh3H1Qy",
        "colab_type": "code",
        "outputId": "57baa9b1-3c7c-4cfb-90b5-c8a18b25fbec",
        "colab": {
          "base_uri": "https://localhost:8080/",
          "height": 72
        }
      },
      "source": [
        "import numpy as np\n",
        "import pandas as pd\n",
        "import matplotlib.pyplot as plt\n",
        "import seaborn as sns\n",
        "train_data = pd.read_csv(\"training_data.csv\")\n",
        "test_data = pd.read_csv(\"test_data.csv\")\n",
        "#print(train_data.head())\n",
        "ss = train_data[train_data[\"m13\"]==1]\n",
        "dd = ss[train_data[\"loan_to_value\"]<20]\n",
        "aa = dd.index\n",
        "train_data = train_data.drop(train_data.index[[45,507,621,633,107296]])"
      ],
      "execution_count": 0,
      "outputs": [
        {
          "output_type": "stream",
          "text": [
            "/usr/local/lib/python3.6/dist-packages/ipykernel_launcher.py:9: UserWarning: Boolean Series key will be reindexed to match DataFrame index.\n",
            "  if __name__ == '__main__':\n"
          ],
          "name": "stderr"
        }
      ]
    },
    {
      "cell_type": "code",
      "metadata": {
        "id": "NGpnuP8wIDJb",
        "colab_type": "code",
        "colab": {}
      },
      "source": [
        "target = train_data.m13\n",
        "test_Id = test_data.loan_id\n",
        "\n",
        "train_data = train_data.drop(\"m13\",axis=1)\n",
        "combined_data = pd.concat([train_data,test_data],axis=0)\n",
        "combined_data = combined_data.drop(\"loan_id\",axis=1)\n",
        "from sklearn.preprocessing import LabelEncoder\n",
        "leb = LabelEncoder()\n",
        "combined_data[\"source\"] = leb.fit_transform(combined_data[\"source\"])\n",
        "combined_data[\"financial_institution\"] = leb.fit_transform(combined_data[\"financial_institution\"])\n",
        "combined_data[\"origination_date\"] = leb.fit_transform(combined_data[\"origination_date\"])\n",
        "combined_data[\"first_payment_date\"] = leb.fit_transform(combined_data[\"first_payment_date\"])\n",
        "combined_data[\"loan_purpose\"] = leb.fit_transform(combined_data[\"loan_purpose\"])\n",
        "#EMI = [P x R x (1+R)^N]/[(1+R)^N-1] \n",
        "combined_data[\"EMI\"] =  (combined_data[\"unpaid_principal_bal\"]*(combined_data[\"interest_rate\"]/100.0)*(1+combined_data[\"interest_rate\"]/100.0)**combined_data[\"loan_term\"])/((1+combined_data[\"interest_rate\"]/100.0)**(combined_data[\"loan_term\"]-1))\n",
        "combined_data[\"New_feature1\"] = (combined_data[\"loan_to_value\"]+combined_data[\"debt_to_income_ratio\"])/combined_data[\"loan_term\"]\n",
        "combined_data[\"New_feature2\"] = 0.8*combined_data[\"borrower_credit_score\"]+0.2*combined_data[\"co-borrower_credit_score\"]"
      ],
      "execution_count": 0,
      "outputs": []
    },
    {
      "cell_type": "code",
      "metadata": {
        "id": "P7zV8GHkKbCG",
        "colab_type": "code",
        "colab": {}
      },
      "source": [
        "combined_data.drop([\"origination_date\",\"first_payment_date\",\"source\",\"financial_institution\",\"source\",\"financial_institution\"],axis=1,inplace=True)"
      ],
      "execution_count": 0,
      "outputs": []
    },
    {
      "cell_type": "code",
      "metadata": {
        "id": "hSb9SPl2IKWP",
        "colab_type": "code",
        "colab": {}
      },
      "source": [
        "ttrain_data = combined_data.iloc[0:116053,:]\n",
        "ttest_data = combined_data.iloc[116053::,:]\n",
        "from imblearn.over_sampling import ADASYN\n",
        "sm = ADASYN()\n",
        "X,Y = sm.fit_sample(ttrain_data.values,target.values)\n",
        "from sklearn.utils import shuffle\n",
        "for i in range(200):\n",
        "    feature,label = shuffle(X,Y,random_state=0)\n",
        "\n",
        "    "
      ],
      "execution_count": 0,
      "outputs": []
    },
    {
      "cell_type": "code",
      "metadata": {
        "id": "R1ZQkAwmQvKK",
        "colab_type": "code",
        "colab": {}
      },
      "source": [
        "ffeature = pd.DataFrame(feature)\n",
        "llabel = pd.DataFrame(label)"
      ],
      "execution_count": 0,
      "outputs": []
    },
    {
      "cell_type": "code",
      "metadata": {
        "id": "ErUo6DyMJkAy",
        "colab_type": "code",
        "colab": {}
      },
      "source": [
        "from sklearn.model_selection import train_test_split\n",
        "from sklearn.ensemble import RandomForestClassifier\n",
        "from sklearn.linear_model import LogisticRegression\n",
        "from sklearn.metrics import f1_score,make_scorer\n",
        "score = make_scorer(f1_score)\n",
        "from sklearn.model_selection import cross_val_score\n",
        "from sklearn.ensemble import RandomForestClassifier,ExtraTreesClassifier\n",
        "from sklearn.neural_network import MLPClassifier\n",
        "from sklearn.ensemble import AdaBoostClassifier\n",
        "from sklearn.naive_bayes import GaussianNB\n",
        "import lightgbm as lgb\n",
        "clf3 = GaussianNB()\n",
        "rnd_clf = RandomForestClassifier(max_depth = 10,n_estimators=500,random_state=42,n_jobs=-1)\n",
        "extree_tree_clf = ExtraTreesClassifier(max_depth = 10,n_estimators=500,random_state=42,n_jobs=-1)\n",
        "ada_clf = AdaBoostClassifier(extree_tree_clf,n_estimators=00,algorithm=\"SAMME.R\",learning_rate=0.05)\n",
        "mlp_clf = MLPClassifier(random_state=42)\n",
        "model_LGBM =lgb.LGBMClassifier(learning_rate=0.01,objective='binary')\n",
        "#clf = cross_val_score(estimator=model,X=feature,y=label,cv=2,scoring=score)\n",
        "#print(clf)\n"
      ],
      "execution_count": 0,
      "outputs": []
    },
    {
      "cell_type": "code",
      "metadata": {
        "id": "A7UjIicpNkEU",
        "colab_type": "code",
        "outputId": "584aae31-07e7-4e6c-c5f0-a0015c60bf69",
        "colab": {
          "base_uri": "https://localhost:8080/",
          "height": 382
        }
      },
      "source": [
        "#model.fit(feature,label)\n",
        "#result = model.predict(ttest_data)\n",
        "#test_result = pd.concat([test_Id,pd.DataFrame(result)],axis=1)\n",
        "#test_result.columns = [\"loan_id\",\"m13\"]\n",
        "#test_result.to_csv(\"loan_delinqncy2.csv\", encoding='utf-8', index=False)\n",
        "test_predict = model11.predict(data_test)\n",
        "acc = []\n",
        "for i in range(len(test_predict)):\n",
        "\tif test_predict[i] == 1:\n",
        "\t\tacc.append(\"Y\")\n",
        "\telse:\n",
        "\t\tacc.append(\"N\")\n",
        "\n",
        "test_result = pd.concat([ID,pd.DataFrame(acc)],axis=1)\n",
        "test_result.columns = [\"Loan_ID\",\"Loan_Status\"]\n",
        "test_result.to_csv(\"loan_prediction103.csv\", encoding='utf-8', index=False)\n",
        "from google.colab import files\n",
        "files.download(\"loan_prediction103.csv\") filename = 'finalized_model.sav'\n",
        "pickle.dump(voting_clf, open(voting_clf_model, 'wb'))"
      ],
      "execution_count": 0,
      "outputs": [
        {
          "output_type": "error",
          "ename": "ValueError",
          "evalue": "ignored",
          "traceback": [
            "\u001b[0;31m---------------------------------------------------------------------------\u001b[0m",
            "\u001b[0;31mValueError\u001b[0m                                Traceback (most recent call last)",
            "\u001b[0;32m<ipython-input-33-838c189472bc>\u001b[0m in \u001b[0;36m<module>\u001b[0;34m()\u001b[0m\n\u001b[1;32m      2\u001b[0m \u001b[0mnamed_estimators\u001b[0m \u001b[0;34m=\u001b[0m \u001b[0;34m[\u001b[0m\u001b[0;34m(\u001b[0m\u001b[0;34m\"ada_clf\"\u001b[0m\u001b[0;34m,\u001b[0m\u001b[0mada_clf\u001b[0m\u001b[0;34m)\u001b[0m\u001b[0;34m,\u001b[0m\u001b[0;34m(\u001b[0m\u001b[0;34m\"rnd_clf\"\u001b[0m\u001b[0;34m,\u001b[0m\u001b[0mrnd_clf\u001b[0m\u001b[0;34m)\u001b[0m\u001b[0;34m,\u001b[0m\u001b[0;34m(\u001b[0m\u001b[0;34m\"extree_tree_clf\"\u001b[0m\u001b[0;34m,\u001b[0m\u001b[0mextree_tree_clf\u001b[0m\u001b[0;34m)\u001b[0m\u001b[0;34m]\u001b[0m\u001b[0;34m\u001b[0m\u001b[0;34m\u001b[0m\u001b[0m\n\u001b[1;32m      3\u001b[0m \u001b[0mvoting_clf\u001b[0m \u001b[0;34m=\u001b[0m \u001b[0mVotingClassifier\u001b[0m\u001b[0;34m(\u001b[0m\u001b[0mnamed_estimators\u001b[0m\u001b[0;34m,\u001b[0m\u001b[0mvoting\u001b[0m\u001b[0;34m=\u001b[0m\u001b[0;34m\"soft\"\u001b[0m\u001b[0;34m,\u001b[0m\u001b[0mflatten_transform\u001b[0m\u001b[0;34m=\u001b[0m\u001b[0;32mTrue\u001b[0m\u001b[0;34m)\u001b[0m\u001b[0;34m\u001b[0m\u001b[0;34m\u001b[0m\u001b[0m\n\u001b[0;32m----> 4\u001b[0;31m \u001b[0mvoting_clf\u001b[0m\u001b[0;34m.\u001b[0m\u001b[0mfit\u001b[0m\u001b[0;34m(\u001b[0m\u001b[0mfeature\u001b[0m\u001b[0;34m,\u001b[0m\u001b[0mlabel\u001b[0m\u001b[0;34m)\u001b[0m\u001b[0;34m\u001b[0m\u001b[0;34m\u001b[0m\u001b[0m\n\u001b[0m\u001b[1;32m      5\u001b[0m \u001b[0mfilename\u001b[0m \u001b[0;34m=\u001b[0m \u001b[0;34m'finalized_model.sav'\u001b[0m\u001b[0;34m\u001b[0m\u001b[0;34m\u001b[0m\u001b[0m\n\u001b[1;32m      6\u001b[0m \u001b[0mpickle\u001b[0m\u001b[0;34m.\u001b[0m\u001b[0mdump\u001b[0m\u001b[0;34m(\u001b[0m\u001b[0mvoting_clf\u001b[0m\u001b[0;34m,\u001b[0m \u001b[0mopen\u001b[0m\u001b[0;34m(\u001b[0m\u001b[0mvoting_clf_model\u001b[0m\u001b[0;34m,\u001b[0m \u001b[0;34m'wb'\u001b[0m\u001b[0;34m)\u001b[0m\u001b[0;34m)\u001b[0m\u001b[0;34m\u001b[0m\u001b[0;34m\u001b[0m\u001b[0m\n",
            "\u001b[0;32m/usr/local/lib/python3.6/dist-packages/sklearn/ensemble/voting.py\u001b[0m in \u001b[0;36mfit\u001b[0;34m(self, X, y, sample_weight)\u001b[0m\n\u001b[1;32m    277\u001b[0m         \u001b[0mtransformed_y\u001b[0m \u001b[0;34m=\u001b[0m \u001b[0mself\u001b[0m\u001b[0;34m.\u001b[0m\u001b[0mle_\u001b[0m\u001b[0;34m.\u001b[0m\u001b[0mtransform\u001b[0m\u001b[0;34m(\u001b[0m\u001b[0my\u001b[0m\u001b[0;34m)\u001b[0m\u001b[0;34m\u001b[0m\u001b[0;34m\u001b[0m\u001b[0m\n\u001b[1;32m    278\u001b[0m \u001b[0;34m\u001b[0m\u001b[0m\n\u001b[0;32m--> 279\u001b[0;31m         \u001b[0;32mreturn\u001b[0m \u001b[0msuper\u001b[0m\u001b[0;34m(\u001b[0m\u001b[0;34m)\u001b[0m\u001b[0;34m.\u001b[0m\u001b[0mfit\u001b[0m\u001b[0;34m(\u001b[0m\u001b[0mX\u001b[0m\u001b[0;34m,\u001b[0m \u001b[0mtransformed_y\u001b[0m\u001b[0;34m,\u001b[0m \u001b[0msample_weight\u001b[0m\u001b[0;34m)\u001b[0m\u001b[0;34m\u001b[0m\u001b[0;34m\u001b[0m\u001b[0m\n\u001b[0m\u001b[1;32m    280\u001b[0m \u001b[0;34m\u001b[0m\u001b[0m\n\u001b[1;32m    281\u001b[0m     \u001b[0;32mdef\u001b[0m \u001b[0mpredict\u001b[0m\u001b[0;34m(\u001b[0m\u001b[0mself\u001b[0m\u001b[0;34m,\u001b[0m \u001b[0mX\u001b[0m\u001b[0;34m)\u001b[0m\u001b[0;34m:\u001b[0m\u001b[0;34m\u001b[0m\u001b[0;34m\u001b[0m\u001b[0m\n",
            "\u001b[0;32m/usr/local/lib/python3.6/dist-packages/sklearn/ensemble/voting.py\u001b[0m in \u001b[0;36mfit\u001b[0;34m(self, X, y, sample_weight)\u001b[0m\n\u001b[1;32m     99\u001b[0m                 delayed(_parallel_fit_estimator)(clone(clf), X, y,\n\u001b[1;32m    100\u001b[0m                                                  sample_weight=sample_weight)\n\u001b[0;32m--> 101\u001b[0;31m                 \u001b[0;32mfor\u001b[0m \u001b[0mclf\u001b[0m \u001b[0;32min\u001b[0m \u001b[0mclfs\u001b[0m \u001b[0;32mif\u001b[0m \u001b[0mclf\u001b[0m \u001b[0;32mnot\u001b[0m \u001b[0;32min\u001b[0m \u001b[0;34m(\u001b[0m\u001b[0;32mNone\u001b[0m\u001b[0;34m,\u001b[0m \u001b[0;34m'drop'\u001b[0m\u001b[0;34m)\u001b[0m\u001b[0;34m\u001b[0m\u001b[0;34m\u001b[0m\u001b[0m\n\u001b[0m\u001b[1;32m    102\u001b[0m             )\n\u001b[1;32m    103\u001b[0m \u001b[0;34m\u001b[0m\u001b[0m\n",
            "\u001b[0;32m/usr/local/lib/python3.6/dist-packages/joblib/parallel.py\u001b[0m in \u001b[0;36m__call__\u001b[0;34m(self, iterable)\u001b[0m\n\u001b[1;32m    919\u001b[0m             \u001b[0;31m# remaining jobs.\u001b[0m\u001b[0;34m\u001b[0m\u001b[0;34m\u001b[0m\u001b[0;34m\u001b[0m\u001b[0m\n\u001b[1;32m    920\u001b[0m             \u001b[0mself\u001b[0m\u001b[0;34m.\u001b[0m\u001b[0m_iterating\u001b[0m \u001b[0;34m=\u001b[0m \u001b[0;32mFalse\u001b[0m\u001b[0;34m\u001b[0m\u001b[0;34m\u001b[0m\u001b[0m\n\u001b[0;32m--> 921\u001b[0;31m             \u001b[0;32mif\u001b[0m \u001b[0mself\u001b[0m\u001b[0;34m.\u001b[0m\u001b[0mdispatch_one_batch\u001b[0m\u001b[0;34m(\u001b[0m\u001b[0miterator\u001b[0m\u001b[0;34m)\u001b[0m\u001b[0;34m:\u001b[0m\u001b[0;34m\u001b[0m\u001b[0;34m\u001b[0m\u001b[0m\n\u001b[0m\u001b[1;32m    922\u001b[0m                 \u001b[0mself\u001b[0m\u001b[0;34m.\u001b[0m\u001b[0m_iterating\u001b[0m \u001b[0;34m=\u001b[0m \u001b[0mself\u001b[0m\u001b[0;34m.\u001b[0m\u001b[0m_original_iterator\u001b[0m \u001b[0;32mis\u001b[0m \u001b[0;32mnot\u001b[0m \u001b[0;32mNone\u001b[0m\u001b[0;34m\u001b[0m\u001b[0;34m\u001b[0m\u001b[0m\n\u001b[1;32m    923\u001b[0m \u001b[0;34m\u001b[0m\u001b[0m\n",
            "\u001b[0;32m/usr/local/lib/python3.6/dist-packages/joblib/parallel.py\u001b[0m in \u001b[0;36mdispatch_one_batch\u001b[0;34m(self, iterator)\u001b[0m\n\u001b[1;32m    757\u001b[0m                 \u001b[0;32mreturn\u001b[0m \u001b[0;32mFalse\u001b[0m\u001b[0;34m\u001b[0m\u001b[0;34m\u001b[0m\u001b[0m\n\u001b[1;32m    758\u001b[0m             \u001b[0;32melse\u001b[0m\u001b[0;34m:\u001b[0m\u001b[0;34m\u001b[0m\u001b[0;34m\u001b[0m\u001b[0m\n\u001b[0;32m--> 759\u001b[0;31m                 \u001b[0mself\u001b[0m\u001b[0;34m.\u001b[0m\u001b[0m_dispatch\u001b[0m\u001b[0;34m(\u001b[0m\u001b[0mtasks\u001b[0m\u001b[0;34m)\u001b[0m\u001b[0;34m\u001b[0m\u001b[0;34m\u001b[0m\u001b[0m\n\u001b[0m\u001b[1;32m    760\u001b[0m                 \u001b[0;32mreturn\u001b[0m \u001b[0;32mTrue\u001b[0m\u001b[0;34m\u001b[0m\u001b[0;34m\u001b[0m\u001b[0m\n\u001b[1;32m    761\u001b[0m \u001b[0;34m\u001b[0m\u001b[0m\n",
            "\u001b[0;32m/usr/local/lib/python3.6/dist-packages/joblib/parallel.py\u001b[0m in \u001b[0;36m_dispatch\u001b[0;34m(self, batch)\u001b[0m\n\u001b[1;32m    714\u001b[0m         \u001b[0;32mwith\u001b[0m \u001b[0mself\u001b[0m\u001b[0;34m.\u001b[0m\u001b[0m_lock\u001b[0m\u001b[0;34m:\u001b[0m\u001b[0;34m\u001b[0m\u001b[0;34m\u001b[0m\u001b[0m\n\u001b[1;32m    715\u001b[0m             \u001b[0mjob_idx\u001b[0m \u001b[0;34m=\u001b[0m \u001b[0mlen\u001b[0m\u001b[0;34m(\u001b[0m\u001b[0mself\u001b[0m\u001b[0;34m.\u001b[0m\u001b[0m_jobs\u001b[0m\u001b[0;34m)\u001b[0m\u001b[0;34m\u001b[0m\u001b[0;34m\u001b[0m\u001b[0m\n\u001b[0;32m--> 716\u001b[0;31m             \u001b[0mjob\u001b[0m \u001b[0;34m=\u001b[0m \u001b[0mself\u001b[0m\u001b[0;34m.\u001b[0m\u001b[0m_backend\u001b[0m\u001b[0;34m.\u001b[0m\u001b[0mapply_async\u001b[0m\u001b[0;34m(\u001b[0m\u001b[0mbatch\u001b[0m\u001b[0;34m,\u001b[0m \u001b[0mcallback\u001b[0m\u001b[0;34m=\u001b[0m\u001b[0mcb\u001b[0m\u001b[0;34m)\u001b[0m\u001b[0;34m\u001b[0m\u001b[0;34m\u001b[0m\u001b[0m\n\u001b[0m\u001b[1;32m    717\u001b[0m             \u001b[0;31m# A job can complete so quickly than its callback is\u001b[0m\u001b[0;34m\u001b[0m\u001b[0;34m\u001b[0m\u001b[0;34m\u001b[0m\u001b[0m\n\u001b[1;32m    718\u001b[0m             \u001b[0;31m# called before we get here, causing self._jobs to\u001b[0m\u001b[0;34m\u001b[0m\u001b[0;34m\u001b[0m\u001b[0;34m\u001b[0m\u001b[0m\n",
            "\u001b[0;32m/usr/local/lib/python3.6/dist-packages/joblib/_parallel_backends.py\u001b[0m in \u001b[0;36mapply_async\u001b[0;34m(self, func, callback)\u001b[0m\n\u001b[1;32m    180\u001b[0m     \u001b[0;32mdef\u001b[0m \u001b[0mapply_async\u001b[0m\u001b[0;34m(\u001b[0m\u001b[0mself\u001b[0m\u001b[0;34m,\u001b[0m \u001b[0mfunc\u001b[0m\u001b[0;34m,\u001b[0m \u001b[0mcallback\u001b[0m\u001b[0;34m=\u001b[0m\u001b[0;32mNone\u001b[0m\u001b[0;34m)\u001b[0m\u001b[0;34m:\u001b[0m\u001b[0;34m\u001b[0m\u001b[0;34m\u001b[0m\u001b[0m\n\u001b[1;32m    181\u001b[0m         \u001b[0;34m\"\"\"Schedule a func to be run\"\"\"\u001b[0m\u001b[0;34m\u001b[0m\u001b[0;34m\u001b[0m\u001b[0m\n\u001b[0;32m--> 182\u001b[0;31m         \u001b[0mresult\u001b[0m \u001b[0;34m=\u001b[0m \u001b[0mImmediateResult\u001b[0m\u001b[0;34m(\u001b[0m\u001b[0mfunc\u001b[0m\u001b[0;34m)\u001b[0m\u001b[0;34m\u001b[0m\u001b[0;34m\u001b[0m\u001b[0m\n\u001b[0m\u001b[1;32m    183\u001b[0m         \u001b[0;32mif\u001b[0m \u001b[0mcallback\u001b[0m\u001b[0;34m:\u001b[0m\u001b[0;34m\u001b[0m\u001b[0;34m\u001b[0m\u001b[0m\n\u001b[1;32m    184\u001b[0m             \u001b[0mcallback\u001b[0m\u001b[0;34m(\u001b[0m\u001b[0mresult\u001b[0m\u001b[0;34m)\u001b[0m\u001b[0;34m\u001b[0m\u001b[0;34m\u001b[0m\u001b[0m\n",
            "\u001b[0;32m/usr/local/lib/python3.6/dist-packages/joblib/_parallel_backends.py\u001b[0m in \u001b[0;36m__init__\u001b[0;34m(self, batch)\u001b[0m\n\u001b[1;32m    547\u001b[0m         \u001b[0;31m# Don't delay the application, to avoid keeping the input\u001b[0m\u001b[0;34m\u001b[0m\u001b[0;34m\u001b[0m\u001b[0;34m\u001b[0m\u001b[0m\n\u001b[1;32m    548\u001b[0m         \u001b[0;31m# arguments in memory\u001b[0m\u001b[0;34m\u001b[0m\u001b[0;34m\u001b[0m\u001b[0;34m\u001b[0m\u001b[0m\n\u001b[0;32m--> 549\u001b[0;31m         \u001b[0mself\u001b[0m\u001b[0;34m.\u001b[0m\u001b[0mresults\u001b[0m \u001b[0;34m=\u001b[0m \u001b[0mbatch\u001b[0m\u001b[0;34m(\u001b[0m\u001b[0;34m)\u001b[0m\u001b[0;34m\u001b[0m\u001b[0;34m\u001b[0m\u001b[0m\n\u001b[0m\u001b[1;32m    550\u001b[0m \u001b[0;34m\u001b[0m\u001b[0m\n\u001b[1;32m    551\u001b[0m     \u001b[0;32mdef\u001b[0m \u001b[0mget\u001b[0m\u001b[0;34m(\u001b[0m\u001b[0mself\u001b[0m\u001b[0;34m)\u001b[0m\u001b[0;34m:\u001b[0m\u001b[0;34m\u001b[0m\u001b[0;34m\u001b[0m\u001b[0m\n",
            "\u001b[0;32m/usr/local/lib/python3.6/dist-packages/joblib/parallel.py\u001b[0m in \u001b[0;36m__call__\u001b[0;34m(self)\u001b[0m\n\u001b[1;32m    223\u001b[0m         \u001b[0;32mwith\u001b[0m \u001b[0mparallel_backend\u001b[0m\u001b[0;34m(\u001b[0m\u001b[0mself\u001b[0m\u001b[0;34m.\u001b[0m\u001b[0m_backend\u001b[0m\u001b[0;34m,\u001b[0m \u001b[0mn_jobs\u001b[0m\u001b[0;34m=\u001b[0m\u001b[0mself\u001b[0m\u001b[0;34m.\u001b[0m\u001b[0m_n_jobs\u001b[0m\u001b[0;34m)\u001b[0m\u001b[0;34m:\u001b[0m\u001b[0;34m\u001b[0m\u001b[0;34m\u001b[0m\u001b[0m\n\u001b[1;32m    224\u001b[0m             return [func(*args, **kwargs)\n\u001b[0;32m--> 225\u001b[0;31m                     for func, args, kwargs in self.items]\n\u001b[0m\u001b[1;32m    226\u001b[0m \u001b[0;34m\u001b[0m\u001b[0m\n\u001b[1;32m    227\u001b[0m     \u001b[0;32mdef\u001b[0m \u001b[0m__len__\u001b[0m\u001b[0;34m(\u001b[0m\u001b[0mself\u001b[0m\u001b[0;34m)\u001b[0m\u001b[0;34m:\u001b[0m\u001b[0;34m\u001b[0m\u001b[0;34m\u001b[0m\u001b[0m\n",
            "\u001b[0;32m/usr/local/lib/python3.6/dist-packages/joblib/parallel.py\u001b[0m in \u001b[0;36m<listcomp>\u001b[0;34m(.0)\u001b[0m\n\u001b[1;32m    223\u001b[0m         \u001b[0;32mwith\u001b[0m \u001b[0mparallel_backend\u001b[0m\u001b[0;34m(\u001b[0m\u001b[0mself\u001b[0m\u001b[0;34m.\u001b[0m\u001b[0m_backend\u001b[0m\u001b[0;34m,\u001b[0m \u001b[0mn_jobs\u001b[0m\u001b[0;34m=\u001b[0m\u001b[0mself\u001b[0m\u001b[0;34m.\u001b[0m\u001b[0m_n_jobs\u001b[0m\u001b[0;34m)\u001b[0m\u001b[0;34m:\u001b[0m\u001b[0;34m\u001b[0m\u001b[0;34m\u001b[0m\u001b[0m\n\u001b[1;32m    224\u001b[0m             return [func(*args, **kwargs)\n\u001b[0;32m--> 225\u001b[0;31m                     for func, args, kwargs in self.items]\n\u001b[0m\u001b[1;32m    226\u001b[0m \u001b[0;34m\u001b[0m\u001b[0m\n\u001b[1;32m    227\u001b[0m     \u001b[0;32mdef\u001b[0m \u001b[0m__len__\u001b[0m\u001b[0;34m(\u001b[0m\u001b[0mself\u001b[0m\u001b[0;34m)\u001b[0m\u001b[0;34m:\u001b[0m\u001b[0;34m\u001b[0m\u001b[0;34m\u001b[0m\u001b[0m\n",
            "\u001b[0;32m/usr/local/lib/python3.6/dist-packages/sklearn/ensemble/voting.py\u001b[0m in \u001b[0;36m_parallel_fit_estimator\u001b[0;34m(estimator, X, y, sample_weight)\u001b[0m\n\u001b[1;32m     41\u001b[0m             \u001b[0;32mraise\u001b[0m\u001b[0;34m\u001b[0m\u001b[0;34m\u001b[0m\u001b[0m\n\u001b[1;32m     42\u001b[0m     \u001b[0;32melse\u001b[0m\u001b[0;34m:\u001b[0m\u001b[0;34m\u001b[0m\u001b[0;34m\u001b[0m\u001b[0m\n\u001b[0;32m---> 43\u001b[0;31m         \u001b[0mestimator\u001b[0m\u001b[0;34m.\u001b[0m\u001b[0mfit\u001b[0m\u001b[0;34m(\u001b[0m\u001b[0mX\u001b[0m\u001b[0;34m,\u001b[0m \u001b[0my\u001b[0m\u001b[0;34m)\u001b[0m\u001b[0;34m\u001b[0m\u001b[0;34m\u001b[0m\u001b[0m\n\u001b[0m\u001b[1;32m     44\u001b[0m     \u001b[0;32mreturn\u001b[0m \u001b[0mestimator\u001b[0m\u001b[0;34m\u001b[0m\u001b[0;34m\u001b[0m\u001b[0m\n\u001b[1;32m     45\u001b[0m \u001b[0;34m\u001b[0m\u001b[0m\n",
            "\u001b[0;32m/usr/local/lib/python3.6/dist-packages/sklearn/ensemble/weight_boosting.py\u001b[0m in \u001b[0;36mfit\u001b[0;34m(self, X, y, sample_weight)\u001b[0m\n\u001b[1;32m    425\u001b[0m \u001b[0;34m\u001b[0m\u001b[0m\n\u001b[1;32m    426\u001b[0m         \u001b[0;31m# Fit\u001b[0m\u001b[0;34m\u001b[0m\u001b[0;34m\u001b[0m\u001b[0;34m\u001b[0m\u001b[0m\n\u001b[0;32m--> 427\u001b[0;31m         \u001b[0;32mreturn\u001b[0m \u001b[0msuper\u001b[0m\u001b[0;34m(\u001b[0m\u001b[0;34m)\u001b[0m\u001b[0;34m.\u001b[0m\u001b[0mfit\u001b[0m\u001b[0;34m(\u001b[0m\u001b[0mX\u001b[0m\u001b[0;34m,\u001b[0m \u001b[0my\u001b[0m\u001b[0;34m,\u001b[0m \u001b[0msample_weight\u001b[0m\u001b[0;34m)\u001b[0m\u001b[0;34m\u001b[0m\u001b[0;34m\u001b[0m\u001b[0m\n\u001b[0m\u001b[1;32m    428\u001b[0m \u001b[0;34m\u001b[0m\u001b[0m\n\u001b[1;32m    429\u001b[0m     \u001b[0;32mdef\u001b[0m \u001b[0m_validate_estimator\u001b[0m\u001b[0;34m(\u001b[0m\u001b[0mself\u001b[0m\u001b[0;34m)\u001b[0m\u001b[0;34m:\u001b[0m\u001b[0;34m\u001b[0m\u001b[0;34m\u001b[0m\u001b[0m\n",
            "\u001b[0;32m/usr/local/lib/python3.6/dist-packages/sklearn/ensemble/weight_boosting.py\u001b[0m in \u001b[0;36mfit\u001b[0;34m(self, X, y, sample_weight)\u001b[0m\n\u001b[1;32m    133\u001b[0m \u001b[0;34m\u001b[0m\u001b[0m\n\u001b[1;32m    134\u001b[0m         \u001b[0;31m# Check parameters\u001b[0m\u001b[0;34m\u001b[0m\u001b[0;34m\u001b[0m\u001b[0;34m\u001b[0m\u001b[0m\n\u001b[0;32m--> 135\u001b[0;31m         \u001b[0mself\u001b[0m\u001b[0;34m.\u001b[0m\u001b[0m_validate_estimator\u001b[0m\u001b[0;34m(\u001b[0m\u001b[0;34m)\u001b[0m\u001b[0;34m\u001b[0m\u001b[0;34m\u001b[0m\u001b[0m\n\u001b[0m\u001b[1;32m    136\u001b[0m \u001b[0;34m\u001b[0m\u001b[0m\n\u001b[1;32m    137\u001b[0m         \u001b[0;31m# Clear any previous fit results\u001b[0m\u001b[0;34m\u001b[0m\u001b[0;34m\u001b[0m\u001b[0;34m\u001b[0m\u001b[0m\n",
            "\u001b[0;32m/usr/local/lib/python3.6/dist-packages/sklearn/ensemble/weight_boosting.py\u001b[0m in \u001b[0;36m_validate_estimator\u001b[0;34m(self)\u001b[0m\n\u001b[1;32m    430\u001b[0m         \u001b[0;34m\"\"\"Check the estimator and set the base_estimator_ attribute.\"\"\"\u001b[0m\u001b[0;34m\u001b[0m\u001b[0;34m\u001b[0m\u001b[0m\n\u001b[1;32m    431\u001b[0m         super()._validate_estimator(\n\u001b[0;32m--> 432\u001b[0;31m             default=DecisionTreeClassifier(max_depth=1))\n\u001b[0m\u001b[1;32m    433\u001b[0m \u001b[0;34m\u001b[0m\u001b[0m\n\u001b[1;32m    434\u001b[0m         \u001b[0;31m#  SAMME-R requires predict_proba-enabled base estimators\u001b[0m\u001b[0;34m\u001b[0m\u001b[0;34m\u001b[0m\u001b[0;34m\u001b[0m\u001b[0m\n",
            "\u001b[0;32m/usr/local/lib/python3.6/dist-packages/sklearn/ensemble/base.py\u001b[0m in \u001b[0;36m_validate_estimator\u001b[0;34m(self, default)\u001b[0m\n\u001b[1;32m    108\u001b[0m         \u001b[0;32mif\u001b[0m \u001b[0mself\u001b[0m\u001b[0;34m.\u001b[0m\u001b[0mn_estimators\u001b[0m \u001b[0;34m<=\u001b[0m \u001b[0;36m0\u001b[0m\u001b[0;34m:\u001b[0m\u001b[0;34m\u001b[0m\u001b[0;34m\u001b[0m\u001b[0m\n\u001b[1;32m    109\u001b[0m             raise ValueError(\"n_estimators must be greater than zero, \"\n\u001b[0;32m--> 110\u001b[0;31m                              \"got {0}.\".format(self.n_estimators))\n\u001b[0m\u001b[1;32m    111\u001b[0m \u001b[0;34m\u001b[0m\u001b[0m\n\u001b[1;32m    112\u001b[0m         \u001b[0;32mif\u001b[0m \u001b[0mself\u001b[0m\u001b[0;34m.\u001b[0m\u001b[0mbase_estimator\u001b[0m \u001b[0;32mis\u001b[0m \u001b[0;32mnot\u001b[0m \u001b[0;32mNone\u001b[0m\u001b[0;34m:\u001b[0m\u001b[0;34m\u001b[0m\u001b[0;34m\u001b[0m\u001b[0m\n",
            "\u001b[0;31mValueError\u001b[0m: n_estimators must be greater than zero, got 0."
          ]
        }
      ]
    },
    {
      "cell_type": "code",
      "metadata": {
        "id": "FY1jo8_7ofQ2",
        "colab_type": "code",
        "colab": {}
      },
      "source": [
        ""
      ],
      "execution_count": 0,
      "outputs": []
    },
    {
      "cell_type": "code",
      "metadata": {
        "id": "4APQXwYxSzdf",
        "colab_type": "code",
        "colab": {}
      },
      "source": [
        "result = voting_clf.predict(ttest_data)\n",
        "test_result = pd.concat([test_Id,pd.DataFrame(result)],axis=1)\n",
        "test_result.columns = [\"loan_id\",\"m13\"]\n",
        "test_result.to_csv(\"loan_delinqncy20.csv\", encoding='utf-8', index=False)\n"
      ],
      "execution_count": 0,
      "outputs": []
    },
    {
      "cell_type": "code",
      "metadata": {
        "id": "6FuPOi0pSaZK",
        "colab_type": "code",
        "colab": {}
      },
      "source": [
        "from google.colab import files\n",
        "files.download(\"loan_delinqncy20.csv\") "
      ],
      "execution_count": 0,
      "outputs": []
    },
    {
      "cell_type": "code",
      "metadata": {
        "id": "v6TPS7cmNAjg",
        "colab_type": "code",
        "colab": {}
      },
      "source": [
        "extree_tree_clf = ExtraTreesClassifier(max_depth = 10,n_estimators=500,random_state=42,n_jobs=-1)\n",
        "ada_clf = AdaBoostClassifier(extree_tree_clf,n_estimators=300,algorithm=\"SAMME.R\",learning_rate=0.05)\n",
        "ada_clf.fit(feature,label)\n",
        "result = ada_clf.predict(ttest_data)\n",
        "test_result = pd.concat([test_Id,pd.DataFrame(result)],axis=1)\n",
        "test_result.columns = [\"loan_id\",\"m13\"]\n",
        "test_result.to_csv(\"loan_delinqncy21.csv\", encoding='utf-8', index=False)\n"
      ],
      "execution_count": 0,
      "outputs": []
    },
    {
      "cell_type": "code",
      "metadata": {
        "id": "1BmN2numTHWQ",
        "colab_type": "code",
        "colab": {}
      },
      "source": [
        "from google.colab import files\n",
        "files.download(\"loan_delinqncy21.csv\") "
      ],
      "execution_count": 0,
      "outputs": []
    },
    {
      "cell_type": "code",
      "metadata": {
        "id": "MlQnm8QdTNEO",
        "colab_type": "code",
        "outputId": "64fd6396-a885-49ff-aff0-7d64fde98ee2",
        "colab": {
          "base_uri": "https://localhost:8080/",
          "height": 402
        }
      },
      "source": [
        "rnd_clf = RandomForestClassifier(max_depth =10,min_samples_split=2,max_features=12,n_estimators=520,random_state=42,n_jobs=-1)\n",
        "\n",
        "rnd_clf.fit(feature,label)\n",
        "result = voting_clf.predict(ttest_data)\n",
        "test_result = pd.concat([test_Id,pd.DataFrame(result)],axis=1)\n",
        "test_result.columns = [\"loan_id\",\"m13\"]\n",
        "test_result.to_csv(\"loan_delinqncy100.csv\", encoding='utf-8', index=False)\n"
      ],
      "execution_count": 0,
      "outputs": [
        {
          "output_type": "error",
          "ename": "NotFittedError",
          "evalue": "ignored",
          "traceback": [
            "\u001b[0;31m---------------------------------------------------------------------------\u001b[0m",
            "\u001b[0;31mNotFittedError\u001b[0m                            Traceback (most recent call last)",
            "\u001b[0;32m<ipython-input-35-462304b0d551>\u001b[0m in \u001b[0;36m<module>\u001b[0;34m()\u001b[0m\n\u001b[1;32m      2\u001b[0m \u001b[0;34m\u001b[0m\u001b[0m\n\u001b[1;32m      3\u001b[0m \u001b[0mrnd_clf\u001b[0m\u001b[0;34m.\u001b[0m\u001b[0mfit\u001b[0m\u001b[0;34m(\u001b[0m\u001b[0mfeature\u001b[0m\u001b[0;34m,\u001b[0m\u001b[0mlabel\u001b[0m\u001b[0;34m)\u001b[0m\u001b[0;34m\u001b[0m\u001b[0;34m\u001b[0m\u001b[0m\n\u001b[0;32m----> 4\u001b[0;31m \u001b[0mresult\u001b[0m \u001b[0;34m=\u001b[0m \u001b[0mvoting_clf\u001b[0m\u001b[0;34m.\u001b[0m\u001b[0mpredict\u001b[0m\u001b[0;34m(\u001b[0m\u001b[0mttest_data\u001b[0m\u001b[0;34m)\u001b[0m\u001b[0;34m\u001b[0m\u001b[0;34m\u001b[0m\u001b[0m\n\u001b[0m\u001b[1;32m      5\u001b[0m \u001b[0mtest_result\u001b[0m \u001b[0;34m=\u001b[0m \u001b[0mpd\u001b[0m\u001b[0;34m.\u001b[0m\u001b[0mconcat\u001b[0m\u001b[0;34m(\u001b[0m\u001b[0;34m[\u001b[0m\u001b[0mtest_Id\u001b[0m\u001b[0;34m,\u001b[0m\u001b[0mpd\u001b[0m\u001b[0;34m.\u001b[0m\u001b[0mDataFrame\u001b[0m\u001b[0;34m(\u001b[0m\u001b[0mresult\u001b[0m\u001b[0;34m)\u001b[0m\u001b[0;34m]\u001b[0m\u001b[0;34m,\u001b[0m\u001b[0maxis\u001b[0m\u001b[0;34m=\u001b[0m\u001b[0;36m1\u001b[0m\u001b[0;34m)\u001b[0m\u001b[0;34m\u001b[0m\u001b[0;34m\u001b[0m\u001b[0m\n\u001b[1;32m      6\u001b[0m \u001b[0mtest_result\u001b[0m\u001b[0;34m.\u001b[0m\u001b[0mcolumns\u001b[0m \u001b[0;34m=\u001b[0m \u001b[0;34m[\u001b[0m\u001b[0;34m\"loan_id\"\u001b[0m\u001b[0;34m,\u001b[0m\u001b[0;34m\"m13\"\u001b[0m\u001b[0;34m]\u001b[0m\u001b[0;34m\u001b[0m\u001b[0;34m\u001b[0m\u001b[0m\n",
            "\u001b[0;32m/usr/local/lib/python3.6/dist-packages/sklearn/ensemble/voting.py\u001b[0m in \u001b[0;36mpredict\u001b[0;34m(self, X)\u001b[0m\n\u001b[1;32m    293\u001b[0m         \"\"\"\n\u001b[1;32m    294\u001b[0m \u001b[0;34m\u001b[0m\u001b[0m\n\u001b[0;32m--> 295\u001b[0;31m         \u001b[0mcheck_is_fitted\u001b[0m\u001b[0;34m(\u001b[0m\u001b[0mself\u001b[0m\u001b[0;34m,\u001b[0m \u001b[0;34m'estimators_'\u001b[0m\u001b[0;34m)\u001b[0m\u001b[0;34m\u001b[0m\u001b[0;34m\u001b[0m\u001b[0m\n\u001b[0m\u001b[1;32m    296\u001b[0m         \u001b[0;32mif\u001b[0m \u001b[0mself\u001b[0m\u001b[0;34m.\u001b[0m\u001b[0mvoting\u001b[0m \u001b[0;34m==\u001b[0m \u001b[0;34m'soft'\u001b[0m\u001b[0;34m:\u001b[0m\u001b[0;34m\u001b[0m\u001b[0;34m\u001b[0m\u001b[0m\n\u001b[1;32m    297\u001b[0m             \u001b[0mmaj\u001b[0m \u001b[0;34m=\u001b[0m \u001b[0mnp\u001b[0m\u001b[0;34m.\u001b[0m\u001b[0margmax\u001b[0m\u001b[0;34m(\u001b[0m\u001b[0mself\u001b[0m\u001b[0;34m.\u001b[0m\u001b[0mpredict_proba\u001b[0m\u001b[0;34m(\u001b[0m\u001b[0mX\u001b[0m\u001b[0;34m)\u001b[0m\u001b[0;34m,\u001b[0m \u001b[0maxis\u001b[0m\u001b[0;34m=\u001b[0m\u001b[0;36m1\u001b[0m\u001b[0;34m)\u001b[0m\u001b[0;34m\u001b[0m\u001b[0;34m\u001b[0m\u001b[0m\n",
            "\u001b[0;32m/usr/local/lib/python3.6/dist-packages/sklearn/utils/validation.py\u001b[0m in \u001b[0;36mcheck_is_fitted\u001b[0;34m(estimator, attributes, msg, all_or_any)\u001b[0m\n\u001b[1;32m    912\u001b[0m \u001b[0;34m\u001b[0m\u001b[0m\n\u001b[1;32m    913\u001b[0m     \u001b[0;32mif\u001b[0m \u001b[0;32mnot\u001b[0m \u001b[0mall_or_any\u001b[0m\u001b[0;34m(\u001b[0m\u001b[0;34m[\u001b[0m\u001b[0mhasattr\u001b[0m\u001b[0;34m(\u001b[0m\u001b[0mestimator\u001b[0m\u001b[0;34m,\u001b[0m \u001b[0mattr\u001b[0m\u001b[0;34m)\u001b[0m \u001b[0;32mfor\u001b[0m \u001b[0mattr\u001b[0m \u001b[0;32min\u001b[0m \u001b[0mattributes\u001b[0m\u001b[0;34m]\u001b[0m\u001b[0;34m)\u001b[0m\u001b[0;34m:\u001b[0m\u001b[0;34m\u001b[0m\u001b[0;34m\u001b[0m\u001b[0m\n\u001b[0;32m--> 914\u001b[0;31m         \u001b[0;32mraise\u001b[0m \u001b[0mNotFittedError\u001b[0m\u001b[0;34m(\u001b[0m\u001b[0mmsg\u001b[0m \u001b[0;34m%\u001b[0m \u001b[0;34m{\u001b[0m\u001b[0;34m'name'\u001b[0m\u001b[0;34m:\u001b[0m \u001b[0mtype\u001b[0m\u001b[0;34m(\u001b[0m\u001b[0mestimator\u001b[0m\u001b[0;34m)\u001b[0m\u001b[0;34m.\u001b[0m\u001b[0m__name__\u001b[0m\u001b[0;34m}\u001b[0m\u001b[0;34m)\u001b[0m\u001b[0;34m\u001b[0m\u001b[0;34m\u001b[0m\u001b[0m\n\u001b[0m\u001b[1;32m    915\u001b[0m \u001b[0;34m\u001b[0m\u001b[0m\n\u001b[1;32m    916\u001b[0m \u001b[0;34m\u001b[0m\u001b[0m\n",
            "\u001b[0;31mNotFittedError\u001b[0m: This VotingClassifier instance is not fitted yet. Call 'fit' with appropriate arguments before using this method."
          ]
        }
      ]
    },
    {
      "cell_type": "code",
      "metadata": {
        "id": "G_NOg376TXno",
        "colab_type": "code",
        "colab": {}
      },
      "source": [
        "from google.colab import files\n",
        "files.download(\"loan_delinqncy22.csv\") "
      ],
      "execution_count": 0,
      "outputs": []
    },
    {
      "cell_type": "code",
      "metadata": {
        "id": "pb9e-1o0TdR1",
        "colab_type": "code",
        "colab": {}
      },
      "source": [
        "extree_tree_clf.fit(feature,model)\n",
        "result = voting_clf.predict(ttest_data)\n",
        "test_result = pd.concat([test_Id,pd.DataFrame(result)],axis=1)\n",
        "test_result.columns = [\"loan_id\",\"m13\"]\n",
        "test_result.to_csv(\"loan_delinqncy23.csv\", encoding='utf-8', index=False)\n"
      ],
      "execution_count": 0,
      "outputs": []
    },
    {
      "cell_type": "code",
      "metadata": {
        "id": "BzxwBMXjTu9Z",
        "colab_type": "code",
        "colab": {}
      },
      "source": [
        "from google.colab import files\n",
        "files.download(\"loan_delinqncy23.csv\") "
      ],
      "execution_count": 0,
      "outputs": []
    },
    {
      "cell_type": "code",
      "metadata": {
        "id": "WD4PcTxJTzwu",
        "colab_type": "code",
        "colab": {}
      },
      "source": [
        "from sklearn.ensemble import VotingClassifier\n",
        "named_estimators = [(\"rnd_clf\",rnd_clf),(\"extree_tree_clf\",extree_tree_clf)]\n",
        "voting_clf = VotingClassifier(named_estimators,voting=\"soft\",weights=[2,1],flatten_transform=True)\n",
        "voting_clf.fit(feature,label)\n",
        "result = voting_clf.predict(ttest_data)\n",
        "test_result = pd.concat([test_Id,pd.DataFrame(result)],axis=1)\n",
        "test_result.columns = [\"loan_id\",\"m13\"]\n",
        "test_result.to_csv(\"loan_delinqncy28.csv\", encoding='utf-8', index=False)\n"
      ],
      "execution_count": 0,
      "outputs": []
    },
    {
      "cell_type": "code",
      "metadata": {
        "id": "S3ogKyulIRrI",
        "colab_type": "code",
        "colab": {}
      },
      "source": [
        "from google.colab import files\n",
        "files.download(\"loan_delinqncy28.csv\") "
      ],
      "execution_count": 0,
      "outputs": []
    },
    {
      "cell_type": "code",
      "metadata": {
        "id": "Bo4hIStBMIl9",
        "colab_type": "code",
        "colab": {}
      },
      "source": [
        "\n",
        "test_result = pd.concat([test_Id,pd.DataFrame(y_pred)],axis=1)\n",
        "test_result.columns = [\"loan_id\",\"m13\"]\n",
        "test_result.to_csv(\"loan_delinqncy24.csv\", encoding='utf-8', index=False)\n"
      ],
      "execution_count": 0,
      "outputs": []
    },
    {
      "cell_type": "code",
      "metadata": {
        "id": "WybyRMRpU95a",
        "colab_type": "code",
        "colab": {}
      },
      "source": [
        "from google.colab import files\n",
        "files.download(\"loan_delinqncy23.csv\") "
      ],
      "execution_count": 0,
      "outputs": []
    }
  ]
}